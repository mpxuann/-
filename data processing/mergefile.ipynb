{
 "cells": [
  {
   "cell_type": "code",
   "execution_count": 2,
   "metadata": {},
   "outputs": [],
   "source": [
    "import pandas as pd\n",
    "import os\n",
    "def merge_csv_files(directory):\n",
    "    all_files = os.listdir(directory)\n",
    "    df_list = []\n",
    "    for file in all_files:\n",
    "        if file.endswith('.csv'):\n",
    "            df = pd.read_csv(os.path.join(directory, file))\n",
    "            df['ID_Index'] = os.path.splitext(file)[0]\n",
    "            df_list.append(df)\n",
    "    merged_df = pd.concat(df_list, ignore_index=True)\n",
    "    return merged_df\n",
    "\n",
    "currentDirectory = os.getcwd()\n",
    "expList = ['exp1','exp2','exp3']\n",
    "for exp in expList:\n",
    "    directory = os.path.join(currentDirectory, exp)\n",
    "    merged_dataframe = merge_csv_files(directory)\n",
    "    merged_dataframe.to_csv(f'{exp}.csv')\n"
   ]
  },
  {
   "cell_type": "code",
   "execution_count": 4,
   "metadata": {},
   "outputs": [],
   "source": [
    "def txt_to_csv(directory):\n",
    "    # Get a list of all files in the directory\n",
    "    all_files = os.listdir(directory)\n",
    "    \n",
    "    # Loop through each file\n",
    "    for file in all_files:\n",
    "        if file.endswith('.txt'):  # Check if the file is a TXT file\n",
    "            # Read the TXT file into a dataframe\n",
    "            df = pd.read_csv(os.path.join(directory, file), delimiter='\\t')  # Adjust delimiter if needed\n",
    "            \n",
    "            # Change the file extension from .txt to .csv\n",
    "            csv_filename = os.path.splitext(file)[0] + '.csv'\n",
    "            \n",
    "            # Save the dataframe as a CSV file\n",
    "            df.to_csv(os.path.join(directory, csv_filename), index=False)\n",
    "directory = 'D:\\data\\科研\\SRTP\\data processing\\视觉重力\\dataV3.0\\exp2'\n",
    "txt_to_csv(directory)\n"
   ]
  }
 ],
 "metadata": {
  "kernelspec": {
   "display_name": "base",
   "language": "python",
   "name": "python3"
  },
  "language_info": {
   "codemirror_mode": {
    "name": "ipython",
    "version": 3
   },
   "file_extension": ".py",
   "mimetype": "text/x-python",
   "name": "python",
   "nbconvert_exporter": "python",
   "pygments_lexer": "ipython3",
   "version": "3.12.0"
  }
 },
 "nbformat": 4,
 "nbformat_minor": 2
}
